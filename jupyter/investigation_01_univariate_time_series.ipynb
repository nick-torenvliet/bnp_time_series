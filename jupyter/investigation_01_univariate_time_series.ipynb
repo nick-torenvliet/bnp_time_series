{
 "cells": [
  {
   "cell_type": "markdown",
   "metadata": {
    "scrolled": true
   },
   "source": [
    "# Investigation One Univariate Time Series\n",
    "\n",
    "The dataset in this application is from a temperature sensor on an industrial cooling water flow. \n",
    "\n",
    "The data is read on a two second interval, and indexed $0,.., n$ as required by __trcrpm__.\n",
    "\n",
    "The $3000$ samples show mostly normal/expected readings from the sensor. Between $1500$ and $2000$ the readings fluctuate rapidly - this fluctuation is due to aging/corroding contacts in the signal path.\n",
    "\n",
    "The investigation is to determine whether __trcrpm__ is a valuable tool for identifying signal anomalies without an advance description of the signal characteristics, or some model of its dynamics.\n",
    "\n",
    "The majority of this file is taken from the __trcrpm__ tutorials.  It is included to demonstrate the basic functionality of the code base, as well as to highlight intuitively, the __trcrpm__ algorithm.  "
   ]
  },
  {
   "cell_type": "code",
   "execution_count": null,
   "metadata": {},
   "outputs": [],
   "source": [
    "# the required python libraries imported\n",
    "import pandas as pd\n",
    "import matplotlib\n",
    "import matplotlib.pyplot as plt\n",
    "import numpy as np\n",
    "from trcrpm import TRCRP_Mixture"
   ]
  },
  {
   "cell_type": "code",
   "execution_count": 1,
   "metadata": {
    "scrolled": true
   },
   "outputs": [],
   "source": [
    "# indicates to jupyer how the plots are to be displayed and sized\n",
    "%matplotlib inline\n",
    "plt.rcParams['figure.figsize'] = [15, 10]"
   ]
  },
  {
   "cell_type": "code",
   "execution_count": 2,
   "metadata": {
    "scrolled": false
   },
   "outputs": [],
   "source": [
    "# Read in the data from a CSV\n",
    "data_clean = pd.read_csv(\"../data/data.csv\", index_col=0)\n",
    "data = data_clean"
   ]
  },
  {
   "cell_type": "code",
   "execution_count": 3,
   "metadata": {
    "scrolled": false
   },
   "outputs": [
    {
     "data": {
      "text/plain": [
       "<matplotlib.legend.Legend at 0x7ff32d264650>"
      ]
     },
     "execution_count": 3,
     "metadata": {},
     "output_type": "execute_result"
    },
    {
     "data": {
      "image/png": "[encoded data removed]",
      "text/plain": [
       "<Figure size 432x288 with 1 Axes>"
      ]
     },
     "metadata": {
      "needs_background": "light"
     },
     "output_type": "display_data"
    }
   ],
   "source": [
    "fig, axes = plt.subplots(nrows=len(data.columns))\n",
    "fig.suptitle('Cooling Water Flow Temperature Sensor Readings with Anomaly', fontsize=16)\n",
    "index = list(data.columns).index(data.columns[0])\n",
    "x_observed = data.index\n",
    "y_observed = data.loc[:,data.columns[0]]\n",
    "axes.plot(x_observed, y_observed, label=data.columns[0], color='k', linewidth=1)\n",
    "axes.legend(loc='upper left', handletextpad=0)"
   ]
  },
  {
   "cell_type": "code",
   "execution_count": 4,
   "metadata": {
    "scrolled": true
   },
   "outputs": [
    {
     "name": "stdout",
     "output_type": "stream",
     "text": [
      "Completed: 20 iterations in 10.815749 seconds.\n",
      "Completed: 20 iterations in 11.011536 seconds.\n",
      "Completed: 20 iterations in 11.587237 seconds.\n",
      "Completed: 20 iterations in 11.857385 seconds.\n",
      "Completed: 20 iterations in 13.239313 seconds.\n",
      "Completed: 20 iterations in 15.832796 seconds.\n",
      "Completed: 20 iterations in 17.772761 seconds.\n",
      "Completed: 20 iterations in 18.591579 seconds.\n",
      "Completed: 20 iterations in 22.327874 seconds.\n",
      "Completed: 20 iterations in 22.859156 seconds.\n",
      "Completed: 20 iterations in 23.498954 seconds.\n",
      "Completed: 20 iterations in 23.761926 seconds.\n",
      "Completed: 20 iterations in 24.071267 seconds.\n",
      "Completed: 20 iterations in 24.462936 seconds.\n",
      "Completed: 20 iterations in 25.550061 seconds.\n",
      "Completed: 20 iterations in 26.604919 seconds.\n"
     ]
    }
   ],
   "source": [
    "# Provide entropy ~ number of time series\n",
    "rng = np.random.RandomState(1)\n",
    "# Create TRCRP_Mixture model object, with 8 MCMC chaine, and a time dependency over the previous 200 samples\n",
    "model = TRCRP_Mixture(chains=8, lag=10, variables=data.columns, rng=rng)\n",
    "# Incorporate the data set into the model\n",
    "model.incorporate(data)\n",
    "# Run MCMC inference the latent state for #steps full Gibbs sweeps through all kernels\n",
    "model.resample_all(steps=20)\n",
    "# Run empirical Bayes on variable hyperparameters for full Gibbs sweeps through all kernels\n",
    "model.resample_hyperparameters(steps=20)\n",
    "# Set up an index/grid, and number of samples desire per index/grid point to run a simulation\n",
    "probes = model.dataset.index\n",
    "numsamples = 20\n",
    "# Generate predictions from the posterior distribution.\n",
    "samples = model.simulate(probes, model.variables, numsamples)"
   ]
  },
  {
   "cell_type": "code",
   "execution_count": 5,
   "metadata": {
    "scrolled": true
   },
   "outputs": [],
   "source": [
    "# Helper function to visualize state sequence changes in the model\n",
    "def plot_latent_state_sequence(timesteps, values, states, ax):\n",
    "    # sanity check\n",
    "    assert len(timesteps) == len(states)\n",
    "    # get unique state labels\n",
    "    unique = sorted(set(states))\n",
    "    # plot states\n",
    "    colors = matplotlib.cm.Set1(np.linspace(0, 1, len(unique)))\n",
    "    y_low, y_high = ax.get_ylim()\n",
    "    y_mid = np.mean([y_low, y_high])\n",
    "    y_height = 0.05 * (y_high - y_low)\n",
    "    for state, color in zip(unique, colors):\n",
    "        xs = timesteps[states==state]\n",
    "        for x in xs:\n",
    "            ax.fill_between([x-1, x], [y_mid-y_height]*2, [y_mid+y_height]*2,\n",
    "                alpha=0.3, color=color)"
   ]
  },
  {
   "cell_type": "code",
   "execution_count": 6,
   "metadata": {
    "scrolled": true
   },
   "outputs": [],
   "source": [
    "# Helper function to plot model predictions from the posterior\n",
    "def plot_predictions(simulations, variable, ax, states_from_chain=None):\n",
    "    index = model.variables.index(variable)\n",
    "    # Plot the observed data.\n",
    "    x_observed = model.dataset.index\n",
    "    y_observed = model.dataset.loc[:,variable]\n",
    "    ax.plot(x_observed, y_observed, label=variable, color='k', linewidth=1)\n",
    "    # Plot 25--75 percentile bands around the simulated data. \n",
    "    samples = simulations[:,:,index]\n",
    "    ax.fill_between(\n",
    "        probes,\n",
    "        np.percentile(samples, 25, axis=0),\n",
    "        np.percentile(samples, 75, axis=0),\n",
    "        color='gray',\n",
    "        alpha=0.5)\n",
    "    #  Optionally plot latent temporal state at each timepoint,\n",
    "    #  according to a given chain in the model.\n",
    "    if states_from_chain is not None:\n",
    "        assert 0 <= states_from_chain < model.chains\n",
    "        # Get a list of states attributed to each sample\n",
    "        states = model.get_temporal_regimes(variable)[states_from_chain]\n",
    "        plot_latent_state_sequence(x_observed, y_observed, states, ax)\n",
    "    # Add the legend.\n",
    "    ax.legend(loc='upper left', handletextpad=0)"
   ]
  },
  {
   "cell_type": "code",
   "execution_count": 7,
   "metadata": {
    "scrolled": false
   },
   "outputs": [
    {
     "data": {
      "text/plain": [
       "(0, 2999)"
      ]
     },
     "execution_count": 7,
     "metadata": {},
     "output_type": "execute_result"
    },
    {
     "data": {
      "image/png": "[encoded data removed]",
      "text/plain": [
       "<Figure size 432x288 with 1 Axes>"
      ]
     },
     "metadata": {
      "needs_background": "light"
     },
     "output_type": "display_data"
    }
   ],
   "source": [
    "# Plot posterior predictive draws\n",
    "fig, axes = plt.subplots(nrows=len(data.columns))\n",
    "fig.suptitle('Posterior Predictive Draws', fontsize=16)\n",
    "plot_predictions(samples, data.columns[0], axes)\n",
    "axes.set_xlim([min(probes), max(probes)])"
   ]
  },
  {
   "cell_type": "code",
   "execution_count": 8,
   "metadata": {
    "scrolled": false
   },
   "outputs": [
    {
     "data": {
      "text/plain": [
       "(0, 2999)"
      ]
     },
     "execution_count": 8,
     "metadata": {},
     "output_type": "execute_result"
    },
    {
     "data": {
      "image/png": "[encoded data removed]",
      "text/plain": [
       "<Figure size 432x288 with 1 Axes>"
      ]
     },
     "metadata": {
      "needs_background": "light"
     },
     "output_type": "display_data"
    }
   ],
   "source": [
    "# Plot the model States as they change\n",
    "chain = 0\n",
    "samples_chain = samples[numsamples*chain:numsamples*(chain+1)]\n",
    "fig, axes = plt.subplots(nrows=1)\n",
    "fig.suptitle('Model States', fontsize=16)\n",
    "plot_predictions(samples_chain,data.columns[0], axes, states_from_chain=chain)\n",
    "axes.set_xlim([min(probes), max(probes)])"
   ]
  }
 ],
 "metadata": {
  "kernelspec": {
   "display_name": "Python 2",
   "language": "python",
   "name": "python2"
  },
  "language_info": {
   "codemirror_mode": {
    "name": "ipython",
    "version": 2
   },
   "file_extension": ".py",
   "mimetype": "text/x-python",
   "name": "python",
   "nbconvert_exporter": "python",
   "pygments_lexer": "ipython2",
   "version": "2.7.12"
  },
  "latex_envs": {
   "LaTeX_envs_menu_present": true,
   "autoclose": false,
   "autocomplete": true,
   "bibliofile": "biblio.bib",
   "cite_by": "apalike",
   "current_citInitial": 1,
   "eqLabelWithNumbers": true,
   "eqNumInitial": 1,
   "hotkeys": {
    "equation": "Ctrl-E",
    "itemize": "Ctrl-I"
   },
   "labels_anchors": false,
   "latex_user_defs": false,
   "report_style_numbering": false,
   "user_envs_cfg": false
  }
 },
 "nbformat": 4,
 "nbformat_minor": 4
}
