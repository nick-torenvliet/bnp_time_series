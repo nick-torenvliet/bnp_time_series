{
 "cells": [
  {
   "cell_type": "markdown",
   "metadata": {
    "scrolled": true
   },
   "source": [
    "# Univariate Anomaly Detection\n",
    "\n",
    "The dataset in this application is from a temperature sensor on an industrial cooling water flow. \n",
    "\n",
    "The data is read on a two second interval, and indexed $0,.., n$ as required by __trcrpm__.\n",
    "\n",
    "The $3000$ samples show mostly normal/expected readings from the sensor. Between $1500$ and $2000$ the readings fluctuate rapidly - this fluctuation is due to aging/corroding contacts in the signal path.\n",
    "\n",
    "The investigation is to determine whether __trcrpm__ is a valuable tool for identifying signal anomalies. \n",
    "\n",
    "The majority of this file is taken from the __trcrpm__ tutorials.  It is included to demonstrate the basic functionality of the code base, as well as to highlight intuitively, the __trcrpm__ algorithm.  "
   ]
  },
  {
   "cell_type": "code",
   "execution_count": 1,
   "metadata": {
    "scrolled": true
   },
   "outputs": [],
   "source": [
    "# the required python libraries imported\n",
    "import pandas as pd\n",
    "import matplotlib\n",
    "import matplotlib.pyplot as plt\n",
    "import numpy as np\n",
    "from trcrpm import TRCRP_Mixture\n",
    "\n",
    "# indicates to jupyer how the plots are to be displayed and sized\n",
    "%matplotlib inline\n",
    "plt.rcParams['figure.figsize'] = [15, 10]"
   ]
  },
  {
   "cell_type": "code",
   "execution_count": 2,
   "metadata": {
    "scrolled": false
   },
   "outputs": [],
   "source": [
    "# Read in the data from a CSV\n",
    "data_clean = pd.read_csv(\"../data/data.csv\", index_col=0)\n",
    "data = data_clean"
   ]
  },
  {
   "cell_type": "code",
   "execution_count": 3,
   "metadata": {
    "scrolled": false
   },
   "outputs": [
    {
     "data": {
      "text/plain": [
       "<matplotlib.legend.Legend at 0x7f79f6dea410>"
      ]
     },
     "execution_count": 3,
     "metadata": {},
     "output_type": "execute_result"
    },
    {
     "data": {
      "image/png": "[encoded data removed]",
      "text/plain": [
       "<Figure size 432x288 with 1 Axes>"
      ]
     },
     "metadata": {
      "needs_background": "light"
     },
     "output_type": "display_data"
    }
   ],
   "source": [
    "fig, axes = plt.subplots(nrows=len(data.columns))\n",
    "fig.suptitle('Cooling Water Flow Temperature Sensor Readings with Anomaly', fontsize=16)\n",
    "index = list(data.columns).index(data.columns[0])\n",
    "x_observed = data.index\n",
    "y_observed = data.loc[:,data.columns[0]]\n",
    "axes.plot(x_observed, y_observed, label=data.columns[0], color='k', linewidth=1)\n",
    "axes.legend(loc='upper left', handletextpad=0)"
   ]
  },
  {
   "cell_type": "code",
   "execution_count": 4,
   "metadata": {
    "scrolled": true
   },
   "outputs": [
    {
     "name": "stdout",
     "output_type": "stream",
     "text": [
      "Completed: 20 iterations in 196.532013 seconds.\n",
      "Completed: 20 iterations in 359.550386 seconds.\n",
      "Completed: 20 iterations in 635.229286 seconds.\n",
      "Completed: 20 iterations in 650.063445 seconds.\n",
      "Completed: 20 iterations in 706.254403 seconds.\n",
      "Completed: 20 iterations in 807.279838 seconds.\n",
      "Completed: 20 iterations in 849.815462 seconds.\n",
      "Completed: 20 iterations in 929.205115 seconds.\n",
      "Completed: 20 iterations in 990.361072 seconds.\n",
      "[================              ] 55.00%"
     ]
    },
    {
     "name": "stderr",
     "output_type": "stream",
     "text": [
      "Process Process-30:\n",
      "Process Process-29:\n",
      "Process Process-32:\n",
      "Process Process-28:\n",
      "Process Process-27:\n",
      "Process Process-26:\n",
      "Process Process-36:\n",
      "Process Process-33:\n",
      "Process Process-31:\n",
      "Traceback (most recent call last):\n",
      "Process Process-25:\n",
      "Traceback (most recent call last):\n",
      "    self.run()\n",
      "  File \"/usr/lib/python2.7/multiprocessing/process.py\", line 258, in _bootstrap\n",
      "Traceback (most recent call last):\n",
      "Process Process-34:\n",
      "Process Process-35:\n",
      "Traceback (most recent call last):\n",
      "Traceback (most recent call last):\n",
      "Traceback (most recent call last):\n",
      "Traceback (most recent call last):\n",
      "  File \"/usr/lib/python2.7/multiprocessing/process.py\", line 258, in _bootstrap\n",
      "Traceback (most recent call last):\n",
      "Traceback (most recent call last):\n",
      "  File \"/usr/lib/python2.7/multiprocessing/process.py\", line 258, in _bootstrap\n",
      "  File \"/usr/lib/python2.7/multiprocessing/process.py\", line 258, in _bootstrap\n",
      "Traceback (most recent call last):\n",
      "  File \"/usr/lib/python2.7/multiprocessing/process.py\", line 258, in _bootstrap\n",
      "Traceback (most recent call last):\n",
      "  File \"/usr/lib/python2.7/multiprocessing/process.py\", line 258, in _bootstrap\n",
      "    self.run()\n",
      "    self.run()\n",
      "Traceback (most recent call last):\n",
      "  File \"/usr/lib/python2.7/multiprocessing/process.py\", line 258, in _bootstrap\n",
      "  File \"/usr/lib/python2.7/multiprocessing/process.py\", line 258, in _bootstrap\n",
      "  File \"/usr/lib/python2.7/multiprocessing/process.py\", line 258, in _bootstrap\n",
      "  File \"/usr/lib/python2.7/multiprocessing/process.py\", line 114, in run\n",
      "  File \"/usr/lib/python2.7/multiprocessing/process.py\", line 114, in run\n",
      "    self.run()\n",
      "  File \"/usr/lib/python2.7/multiprocessing/process.py\", line 114, in run\n",
      "  File \"/usr/lib/python2.7/multiprocessing/process.py\", line 258, in _bootstrap\n",
      "  File \"/usr/lib/python2.7/multiprocessing/process.py\", line 258, in _bootstrap\n",
      "    self.run()\n",
      "    self.run()\n",
      "    self.run()\n",
      "    self.run()\n",
      "    self._target(*self._args, **self._kwargs)\n",
      "    self.run()\n",
      "  File \"/usr/lib/python2.7/multiprocessing/process.py\", line 258, in _bootstrap\n",
      "  File \"/usr/lib/python2.7/multiprocessing/process.py\", line 114, in run\n",
      "  File \"/usr/lib/python2.7/multiprocessing/process.py\", line 114, in run\n",
      "  File \"/usr/lib/python2.7/multiprocessing/process.py\", line 114, in run\n",
      "    self._target(*self._args, **self._kwargs)\n",
      "    self._target(*self._args, **self._kwargs)\n",
      "    self.run()\n",
      "  File \"/venv/local/lib/python2.7/site-packages/cgpm/utils/parallel_map.py\", line 50, in process_input\n",
      "    self.run()\n",
      "    self._target(*self._args, **self._kwargs)\n",
      "    self.run()\n",
      "    self._target(*self._args, **self._kwargs)\n",
      "  File \"/usr/lib/python2.7/multiprocessing/process.py\", line 114, in run\n",
      "  File \"/usr/lib/python2.7/multiprocessing/process.py\", line 114, in run\n",
      "    ok, fx = True, f(x)\n",
      "  File \"/usr/lib/python2.7/multiprocessing/process.py\", line 114, in run\n",
      "  File \"/usr/lib/python2.7/multiprocessing/process.py\", line 114, in run\n",
      "  File \"/venv/local/lib/python2.7/site-packages/cgpm/utils/parallel_map.py\", line 45, in process_input\n",
      "    self._target(*self._args, **self._kwargs)\n",
      "  File \"/venv/local/lib/python2.7/site-packages/cgpm/utils/parallel_map.py\", line 45, in process_input\n",
      "  File \"/usr/lib/python2.7/multiprocessing/process.py\", line 114, in run\n",
      "  File \"/venv/local/lib/python2.7/site-packages/cgpm/utils/parallel_map.py\", line 50, in process_input\n",
      "    self._target(*self._args, **self._kwargs)\n",
      "  File \"/venv/local/lib/python2.7/site-packages/cgpm/crosscat/engine.py\", line 41, in _modify\n",
      "  File \"/venv/local/lib/python2.7/site-packages/cgpm/utils/parallel_map.py\", line 50, in process_input\n",
      "    self._target(*self._args, **self._kwargs)\n",
      "    i = inq_rd.recv()\n",
      "    self._target(*self._args, **self._kwargs)\n",
      "    self._target(*self._args, **self._kwargs)\n",
      "  File \"/usr/lib/python2.7/multiprocessing/process.py\", line 114, in run\n",
      "    ok, fx = True, f(x)\n",
      "    ok, fx = True, f(x)\n",
      "    getattr(state, method)(*args)\n",
      "    i = inq_rd.recv()\n",
      "KeyboardInterrupt\n",
      "    self._target(*self._args, **self._kwargs)\n",
      "  File \"/venv/local/lib/python2.7/site-packages/cgpm/utils/parallel_map.py\", line 50, in process_input\n",
      "    self._target(*self._args, **self._kwargs)\n",
      "  File \"/venv/local/lib/python2.7/site-packages/cgpm/utils/parallel_map.py\", line 45, in process_input\n",
      "  File \"/venv/local/lib/python2.7/site-packages/cgpm/crosscat/engine.py\", line 41, in _modify\n",
      "  File \"/venv/local/lib/python2.7/site-packages/cgpm/crosscat/state.py\", line 761, in transition\n",
      "  File \"/venv/local/lib/python2.7/site-packages/cgpm/utils/parallel_map.py\", line 50, in process_input\n",
      "    ok, fx = True, f(x)\n",
      "  File \"/venv/local/lib/python2.7/site-packages/cgpm/utils/parallel_map.py\", line 50, in process_input\n",
      "  File \"/venv/local/lib/python2.7/site-packages/cgpm/utils/parallel_map.py\", line 45, in process_input\n",
      "KeyboardInterrupt\n",
      "    getattr(state, method)(*args)\n",
      "  File \"/venv/local/lib/python2.7/site-packages/cgpm/utils/parallel_map.py\", line 50, in process_input\n",
      "    kernel_funcs, N=N, S=S, progress=progress, checkpoint=checkpoint)\n",
      "    i = inq_rd.recv()\n",
      "    ok, fx = True, f(x)\n",
      "    i = inq_rd.recv()\n",
      "  File \"/venv/local/lib/python2.7/site-packages/cgpm/crosscat/engine.py\", line 41, in _modify\n",
      "    ok, fx = True, f(x)\n",
      "  File \"/venv/local/lib/python2.7/site-packages/cgpm/crosscat/state.py\", line 761, in transition\n",
      "    ok, fx = True, f(x)\n",
      "  File \"/venv/local/lib/python2.7/site-packages/cgpm/crosscat/state.py\", line 895, in _transition_generic\n",
      "  File \"/venv/local/lib/python2.7/site-packages/cgpm/crosscat/engine.py\", line 41, in _modify\n",
      "    getattr(state, method)(*args)\n",
      "  File \"/venv/local/lib/python2.7/site-packages/cgpm/crosscat/engine.py\", line 41, in _modify\n",
      "  File \"/venv/local/lib/python2.7/site-packages/cgpm/utils/parallel_map.py\", line 45, in process_input\n",
      "KeyboardInterrupt\n",
      "    getattr(state, method)(*args)\n",
      "  File \"/venv/local/lib/python2.7/site-packages/cgpm/crosscat/engine.py\", line 41, in _modify\n",
      "  File \"/venv/local/lib/python2.7/site-packages/cgpm/crosscat/state.py\", line 761, in transition\n",
      "    kernel()\n",
      "  File \"/venv/local/lib/python2.7/site-packages/cgpm/crosscat/state.py\", line 761, in transition\n",
      "KeyboardInterrupt\n",
      "    getattr(state, method)(*args)\n",
      "    kernel_funcs, N=N, S=S, progress=progress, checkpoint=checkpoint)\n",
      "  File \"/venv/local/lib/python2.7/site-packages/cgpm/crosscat/engine.py\", line 41, in _modify\n",
      "    i = inq_rd.recv()\n",
      "  File \"/venv/local/lib/python2.7/site-packages/cgpm/crosscat/state.py\", line 745, in <lambda>\n",
      "    kernel_funcs, N=N, S=S, progress=progress, checkpoint=checkpoint)\n",
      "  File \"/venv/local/lib/python2.7/site-packages/cgpm/crosscat/state.py\", line 895, in _transition_generic\n",
      "    getattr(state, method)(*args)\n",
      "    lambda : self.transition_dim_hypers(cols=cols)),\n",
      "  File \"/venv/local/lib/python2.7/site-packages/cgpm/crosscat/state.py\", line 761, in transition\n",
      "KeyboardInterrupt\n",
      "    kernel_funcs, N=N, S=S, progress=progress, checkpoint=checkpoint)\n",
      "  File \"/venv/local/lib/python2.7/site-packages/cgpm/crosscat/state.py\", line 785, in transition_dim_hypers\n",
      "  File \"/venv/local/lib/python2.7/site-packages/cgpm/crosscat/state.py\", line 895, in _transition_generic\n",
      "    getattr(state, method)(*args)\n",
      "    kernel_funcs, N=N, S=S, progress=progress, checkpoint=checkpoint)\n",
      "  File \"/venv/local/lib/python2.7/site-packages/cgpm/crosscat/state.py\", line 895, in _transition_generic\n",
      "    kernel()\n",
      "  File \"/venv/local/lib/python2.7/site-packages/cgpm/crosscat/state.py\", line 895, in _transition_generic\n",
      "    self.dim_for(c).transition_hypers()\n",
      "    kernel()\n",
      "  File \"/venv/local/lib/python2.7/site-packages/cgpm/crosscat/state.py\", line 761, in transition\n",
      "  File \"/venv/local/lib/python2.7/site-packages/cgpm/crosscat/state.py\", line 761, in transition\n",
      "    kernel()\n",
      "    kernel_funcs, N=N, S=S, progress=progress, checkpoint=checkpoint)\n",
      "    kernel_funcs, N=N, S=S, progress=progress, checkpoint=checkpoint)\n",
      "    kernel()\n",
      "  File \"/venv/local/lib/python2.7/site-packages/cgpm/crosscat/state.py\", line 745, in <lambda>\n",
      "  File \"/venv/local/lib/python2.7/site-packages/cgpm/mixtures/dim.py\", line 165, in transition_hypers\n",
      "  File \"/venv/local/lib/python2.7/site-packages/cgpm/crosscat/state.py\", line 745, in <lambda>\n",
      "  File \"/venv/local/lib/python2.7/site-packages/cgpm/crosscat/state.py\", line 745, in <lambda>\n",
      "    lambda : self.transition_dim_hypers(cols=cols)),\n"
     ]
    },
    {
     "name": "stderr",
     "output_type": "stream",
     "text": [
      "  File \"/venv/local/lib/python2.7/site-packages/cgpm/crosscat/state.py\", line 895, in _transition_generic\n",
      "  File \"/venv/local/lib/python2.7/site-packages/cgpm/crosscat/state.py\", line 745, in <lambda>\n",
      "    lambda : self.transition_dim_hypers(cols=cols)),\n",
      "    lambda : self.transition_dim_hypers(cols=cols)),\n",
      "    self.clusters[k].set_hypers(self.hypers)\n",
      "  File \"/venv/local/lib/python2.7/site-packages/cgpm/crosscat/state.py\", line 895, in _transition_generic\n",
      "    lambda : self.transition_dim_hypers(cols=cols)),\n",
      "  File \"/venv/local/lib/python2.7/site-packages/cgpm/crosscat/state.py\", line 785, in transition_dim_hypers\n",
      "    kernel()\n",
      "  File \"/venv/local/lib/python2.7/site-packages/cgpm/crosscat/state.py\", line 785, in transition_dim_hypers\n",
      "  File \"/venv/local/lib/python2.7/site-packages/cgpm/crosscat/state.py\", line 785, in transition_dim_hypers\n",
      "    kernel()\n",
      "  File \"/venv/local/lib/python2.7/site-packages/cgpm/primitives/normal.py\", line 110, in set_hypers\n",
      "    self.dim_for(c).transition_hypers()\n",
      "  File \"/venv/local/lib/python2.7/site-packages/cgpm/crosscat/state.py\", line 745, in <lambda>\n",
      "    lambda : self.transition_dim_hypers(cols=cols)),\n",
      "  File \"/venv/local/lib/python2.7/site-packages/cgpm/crosscat/state.py\", line 785, in transition_dim_hypers\n",
      "  File \"/venv/local/lib/python2.7/site-packages/cgpm/crosscat/state.py\", line 745, in <lambda>\n",
      "    self.dim_for(c).transition_hypers()\n",
      "    self.dim_for(c).transition_hypers()\n",
      "    assert hypers['nu'] > 0.\n",
      "  File \"/venv/local/lib/python2.7/site-packages/cgpm/mixtures/dim.py\", line 165, in transition_hypers\n",
      "  File \"/venv/local/lib/python2.7/site-packages/cgpm/mixtures/dim.py\", line 166, in transition_hypers\n",
      "    self.dim_for(c).transition_hypers()\n",
      "  File \"/venv/local/lib/python2.7/site-packages/cgpm/mixtures/dim.py\", line 165, in transition_hypers\n",
      "    lambda : self.transition_dim_hypers(cols=cols)),\n",
      "    self.clusters[k].set_hypers(self.hypers)\n",
      "  File \"/venv/local/lib/python2.7/site-packages/cgpm/crosscat/state.py\", line 785, in transition_dim_hypers\n",
      "    self.clusters[k].set_hypers(self.hypers)\n",
      "    logp_k += self.clusters[k].logpdf_score()\n",
      "  File \"/venv/local/lib/python2.7/site-packages/cgpm/mixtures/dim.py\", line 166, in transition_hypers\n",
      "KeyboardInterrupt\n",
      "  File \"/venv/local/lib/python2.7/site-packages/cgpm/crosscat/state.py\", line 785, in transition_dim_hypers\n",
      "  File \"/venv/local/lib/python2.7/site-packages/cgpm/primitives/normal.py\", line 98, in logpdf_score\n",
      "KeyboardInterrupt\n",
      "    self.dim_for(c).transition_hypers()\n",
      "    logp_k += self.clusters[k].logpdf_score()\n",
      "  File \"/venv/local/lib/python2.7/site-packages/cgpm/primitives/normal.py\", line 98, in logpdf_score\n",
      "    self.N, self.sum_x, self.sum_x_sq, self.m, self.r, self.s, self.nu)\n",
      "  File \"/venv/local/lib/python2.7/site-packages/cgpm/mixtures/dim.py\", line 166, in transition_hypers\n",
      "    self.dim_for(c).transition_hypers()\n",
      "KeyboardInterrupt\n",
      "    self.N, self.sum_x, self.sum_x_sq, self.m, self.r, self.s, self.nu)\n",
      "    logp_k += self.clusters[k].logpdf_score()\n",
      "  File \"/venv/local/lib/python2.7/site-packages/cgpm/mixtures/dim.py\", line 166, in transition_hypers\n",
      "  File \"/venv/local/lib/python2.7/site-packages/cgpm/primitives/normal.py\", line 180, in calc_logpdf_marginal\n",
      "  File \"/venv/local/lib/python2.7/site-packages/cgpm/primitives/normal.py\", line 98, in logpdf_score\n",
      "  File \"/venv/local/lib/python2.7/site-packages/cgpm/primitives/normal.py\", line 180, in calc_logpdf_marginal\n",
      "    ZN = Normal.calc_log_Z(rn, sn, nun)\n",
      "    self.N, self.sum_x, self.sum_x_sq, self.m, self.r, self.s, self.nu)\n",
      "  File \"/venv/local/lib/python2.7/site-packages/cgpm/primitives/normal.py\", line 200, in calc_log_Z\n",
      "    ZN = Normal.calc_log_Z(rn, sn, nun)\n",
      "  File \"/venv/local/lib/python2.7/site-packages/cgpm/primitives/normal.py\", line 178, in calc_logpdf_marginal\n",
      "    logp_k += self.clusters[k].logpdf_score()\n",
      "    + lgamma(nu/2.))\n",
      "    N, sum_x, sum_x_sq, m, r, s, nu)\n",
      "  File \"/venv/local/lib/python2.7/site-packages/cgpm/primitives/normal.py\", line 200, in calc_log_Z\n",
      "  File \"/venv/local/lib/python2.7/site-packages/cgpm/primitives/normal.py\", line 98, in logpdf_score\n",
      "KeyboardInterrupt\n",
      "  File \"/venv/local/lib/python2.7/site-packages/cgpm/primitives/normal.py\", line 188, in posterior_hypers\n",
      "    + lgamma(nu/2.))\n",
      "    self.N, self.sum_x, self.sum_x_sq, self.m, self.r, self.s, self.nu)\n",
      "    sn = s + sum_x_sq + r*m*m - rn*mn*mn\n",
      "  File \"/venv/local/lib/python2.7/site-packages/cgpm/primitives/normal.py\", line 181, in calc_logpdf_marginal\n",
      "KeyboardInterrupt\n",
      "KeyboardInterrupt\n",
      "    return -(N/2.) * LOG2PI + ZN - Z0\n",
      "KeyboardInterrupt\n"
     ]
    },
    {
     "ename": "KeyboardInterrupt",
     "evalue": "",
     "output_type": "error",
     "traceback": [
      "\u001b[0;31m---------------------------------------------------------------------------\u001b[0m",
      "\u001b[0;31mKeyboardInterrupt\u001b[0m                         Traceback (most recent call last)",
      "\u001b[0;32m<ipython-input-4-859f14d7ace3>\u001b[0m in \u001b[0;36m<module>\u001b[0;34m()\u001b[0m\n\u001b[1;32m      8\u001b[0m \u001b[0mmodel\u001b[0m\u001b[0;34m.\u001b[0m\u001b[0mresample_all\u001b[0m\u001b[0;34m(\u001b[0m\u001b[0msteps\u001b[0m\u001b[0;34m=\u001b[0m\u001b[0;36m20\u001b[0m\u001b[0;34m)\u001b[0m\u001b[0;34m\u001b[0m\u001b[0m\n\u001b[1;32m      9\u001b[0m \u001b[0;31m# Run empirical Bayes on variable hyperparameters for full Gibbs sweeps through all kernels\u001b[0m\u001b[0;34m\u001b[0m\u001b[0;34m\u001b[0m\u001b[0m\n\u001b[0;32m---> 10\u001b[0;31m \u001b[0mmodel\u001b[0m\u001b[0;34m.\u001b[0m\u001b[0mresample_hyperparameters\u001b[0m\u001b[0;34m(\u001b[0m\u001b[0msteps\u001b[0m\u001b[0;34m=\u001b[0m\u001b[0;36m20\u001b[0m\u001b[0;34m)\u001b[0m\u001b[0;34m\u001b[0m\u001b[0m\n\u001b[0m\u001b[1;32m     11\u001b[0m \u001b[0;31m# Set up an index/grid, and number of samples desire per index/grid point to run a simulation\u001b[0m\u001b[0;34m\u001b[0m\u001b[0;34m\u001b[0m\u001b[0m\n\u001b[1;32m     12\u001b[0m \u001b[0mprobes\u001b[0m \u001b[0;34m=\u001b[0m \u001b[0mmodel\u001b[0m\u001b[0;34m.\u001b[0m\u001b[0mdataset\u001b[0m\u001b[0;34m.\u001b[0m\u001b[0mindex\u001b[0m\u001b[0;34m\u001b[0m\u001b[0m\n",
      "\u001b[0;32m/venv/local/lib/python2.7/site-packages/trcrpm/trcrpm.pyc\u001b[0m in \u001b[0;36mresample_hyperparameters\u001b[0;34m(self, steps, seconds, variables)\u001b[0m\n\u001b[1;32m    131\u001b[0m         ]))\n\u001b[1;32m    132\u001b[0m         self._transition(N=steps, S=seconds, cols=variable_indexes,\n\u001b[0;32m--> 133\u001b[0;31m             kernels=['view_alphas','column_hypers'], backend='cgpm')\n\u001b[0m\u001b[1;32m    134\u001b[0m \u001b[0;34m\u001b[0m\u001b[0m\n\u001b[1;32m    135\u001b[0m     \u001b[0;32mdef\u001b[0m \u001b[0msimulate\u001b[0m\u001b[0;34m(\u001b[0m\u001b[0mself\u001b[0m\u001b[0;34m,\u001b[0m \u001b[0mtimepoints\u001b[0m\u001b[0;34m,\u001b[0m \u001b[0mvariables\u001b[0m\u001b[0;34m,\u001b[0m \u001b[0mnsamples\u001b[0m\u001b[0;34m,\u001b[0m \u001b[0mmultiprocess\u001b[0m\u001b[0;34m=\u001b[0m\u001b[0;36m1\u001b[0m\u001b[0;34m)\u001b[0m\u001b[0;34m:\u001b[0m\u001b[0;34m\u001b[0m\u001b[0m\n",
      "\u001b[0;32m/venv/local/lib/python2.7/site-packages/trcrpm/trcrpm.pyc\u001b[0m in \u001b[0;36m_transition\u001b[0;34m(self, **kwargs)\u001b[0m\n\u001b[1;32m    274\u001b[0m         \u001b[0mkwargs\u001b[0m\u001b[0;34m[\u001b[0m\u001b[0;34m'cols'\u001b[0m\u001b[0;34m]\u001b[0m \u001b[0;34m=\u001b[0m \u001b[0mkwargs\u001b[0m\u001b[0;34m.\u001b[0m\u001b[0mpop\u001b[0m\u001b[0;34m(\u001b[0m\u001b[0;34m'cols'\u001b[0m\u001b[0;34m,\u001b[0m \u001b[0mself\u001b[0m\u001b[0;34m.\u001b[0m\u001b[0m_variable_indexes\u001b[0m\u001b[0;34m(\u001b[0m\u001b[0;34m)\u001b[0m\u001b[0;34m)\u001b[0m\u001b[0;34m\u001b[0m\u001b[0m\n\u001b[1;32m    275\u001b[0m         \u001b[0;32mif\u001b[0m \u001b[0mbackend\u001b[0m \u001b[0;32min\u001b[0m \u001b[0;34m[\u001b[0m\u001b[0;34m'cgpm'\u001b[0m\u001b[0;34m,\u001b[0m \u001b[0mNone\u001b[0m\u001b[0;34m]\u001b[0m\u001b[0;34m:\u001b[0m\u001b[0;34m\u001b[0m\u001b[0m\n\u001b[0;32m--> 276\u001b[0;31m             \u001b[0mself\u001b[0m\u001b[0;34m.\u001b[0m\u001b[0mengine\u001b[0m\u001b[0;34m.\u001b[0m\u001b[0mtransition\u001b[0m\u001b[0;34m(\u001b[0m\u001b[0;34m**\u001b[0m\u001b[0mkwargs\u001b[0m\u001b[0;34m)\u001b[0m\u001b[0;34m\u001b[0m\u001b[0m\n\u001b[0m\u001b[1;32m    277\u001b[0m         \u001b[0;32melif\u001b[0m \u001b[0mbackend\u001b[0m \u001b[0;32min\u001b[0m \u001b[0;34m[\u001b[0m\u001b[0;34m'lovecat'\u001b[0m\u001b[0;34m]\u001b[0m\u001b[0;34m:\u001b[0m\u001b[0;34m\u001b[0m\u001b[0m\n\u001b[1;32m    278\u001b[0m             \u001b[0mself\u001b[0m\u001b[0;34m.\u001b[0m\u001b[0mengine\u001b[0m\u001b[0;34m.\u001b[0m\u001b[0mtransition_lovecat\u001b[0m\u001b[0;34m(\u001b[0m\u001b[0;34m**\u001b[0m\u001b[0mkwargs\u001b[0m\u001b[0;34m)\u001b[0m\u001b[0;34m\u001b[0m\u001b[0m\n",
      "\u001b[0;32m/venv/local/lib/python2.7/site-packages/cgpm/crosscat/engine.pyc\u001b[0m in \u001b[0;36mtransition\u001b[0;34m(self, N, S, kernels, rowids, cols, views, progress, checkpoint, statenos, multiprocess)\u001b[0m\n\u001b[1;32m     81\u001b[0m                 (N, S, kernels, rowids, cols, views, progress, checkpoint))\n\u001b[1;32m     82\u001b[0m                 for s in statenos]\n\u001b[0;32m---> 83\u001b[0;31m         \u001b[0mstates\u001b[0m \u001b[0;34m=\u001b[0m \u001b[0mmapper\u001b[0m\u001b[0;34m(\u001b[0m\u001b[0m_modify\u001b[0m\u001b[0;34m,\u001b[0m \u001b[0margs\u001b[0m\u001b[0;34m)\u001b[0m\u001b[0;34m\u001b[0m\u001b[0m\n\u001b[0m\u001b[1;32m     84\u001b[0m         \u001b[0;32mfor\u001b[0m \u001b[0ms\u001b[0m\u001b[0;34m,\u001b[0m \u001b[0mstate\u001b[0m \u001b[0;32min\u001b[0m \u001b[0mzip\u001b[0m\u001b[0;34m(\u001b[0m\u001b[0mstatenos\u001b[0m\u001b[0;34m,\u001b[0m \u001b[0mstates\u001b[0m\u001b[0;34m)\u001b[0m\u001b[0;34m:\u001b[0m\u001b[0;34m\u001b[0m\u001b[0m\n\u001b[1;32m     85\u001b[0m             \u001b[0mself\u001b[0m\u001b[0;34m.\u001b[0m\u001b[0mstates\u001b[0m\u001b[0;34m[\u001b[0m\u001b[0ms\u001b[0m\u001b[0;34m]\u001b[0m \u001b[0;34m=\u001b[0m \u001b[0mstate\u001b[0m\u001b[0;34m\u001b[0m\u001b[0m\n",
      "\u001b[0;32m/venv/local/lib/python2.7/site-packages/cgpm/utils/parallel_map.pyc\u001b[0m in \u001b[0;36mparallel_map\u001b[0;34m(f, l, parallelism)\u001b[0m\n\u001b[1;32m     96\u001b[0m         \u001b[0;31m# Process all the remaining output items.\u001b[0m\u001b[0;34m\u001b[0m\u001b[0;34m\u001b[0m\u001b[0m\n\u001b[1;32m     97\u001b[0m         \u001b[0;32mwhile\u001b[0m \u001b[0;36m0\u001b[0m \u001b[0;34m<\u001b[0m \u001b[0mctr\u001b[0m\u001b[0;34m[\u001b[0m\u001b[0;36m0\u001b[0m\u001b[0;34m]\u001b[0m\u001b[0;34m:\u001b[0m\u001b[0;34m\u001b[0m\u001b[0m\n\u001b[0;32m---> 98\u001b[0;31m             \u001b[0mj\u001b[0m \u001b[0;34m=\u001b[0m \u001b[0mle32dec\u001b[0m\u001b[0;34m(\u001b[0m\u001b[0mos\u001b[0m\u001b[0;34m.\u001b[0m\u001b[0mread\u001b[0m\u001b[0;34m(\u001b[0m\u001b[0mretq_rd\u001b[0m\u001b[0;34m,\u001b[0m \u001b[0;36m4\u001b[0m\u001b[0;34m)\u001b[0m\u001b[0;34m)\u001b[0m\u001b[0;34m\u001b[0m\u001b[0m\n\u001b[0m\u001b[1;32m     99\u001b[0m             \u001b[0mprocess_output\u001b[0m\u001b[0;34m(\u001b[0m\u001b[0mfl\u001b[0m\u001b[0;34m,\u001b[0m \u001b[0mctr\u001b[0m\u001b[0;34m,\u001b[0m \u001b[0moutq\u001b[0m\u001b[0;34m[\u001b[0m\u001b[0mj\u001b[0m\u001b[0;34m]\u001b[0m\u001b[0;34m[\u001b[0m\u001b[0;36m0\u001b[0m\u001b[0;34m]\u001b[0m\u001b[0;34m.\u001b[0m\u001b[0mrecv\u001b[0m\u001b[0;34m(\u001b[0m\u001b[0;34m)\u001b[0m\u001b[0;34m)\u001b[0m\u001b[0;34m\u001b[0m\u001b[0m\n\u001b[1;32m    100\u001b[0m \u001b[0;34m\u001b[0m\u001b[0m\n",
      "\u001b[0;31mKeyboardInterrupt\u001b[0m: "
     ]
    }
   ],
   "source": [
    "# Provide entropy ~ number of time series\n",
    "rng = np.random.RandomState(1)\n",
    "# Create TRCRP_Mixture model object, with 8 MCMC chaine, and a time dependency over the previous 200 samples\n",
    "model = TRCRP_Mixture(chains=8, lag=200, variables=data.columns, rng=rng)\n",
    "# Incorporate the data set into the model\n",
    "model.incorporate(data)\n",
    "# Run MCMC inference the latent state for #steps full Gibbs sweeps through all kernels\n",
    "model.resample_all(steps=20)\n",
    "# Run empirical Bayes on variable hyperparameters for full Gibbs sweeps through all kernels\n",
    "model.resample_hyperparameters(steps=20)\n",
    "# Set up an index/grid, and number of samples desire per index/grid point to run a simulation\n",
    "probes = model.dataset.index\n",
    "numsamples = 20\n",
    "# Generate predictions from the posterior distribution.\n",
    "samples = model.simulate(probes, model.variables, numsamples)"
   ]
  },
  {
   "cell_type": "code",
   "execution_count": null,
   "metadata": {
    "scrolled": true
   },
   "outputs": [],
   "source": [
    "# Helper function to visualize state sequence changes in the model\n",
    "def plot_latent_state_sequence(timesteps, values, states, ax):\n",
    "    # sanity check\n",
    "    assert len(timesteps) == len(states)\n",
    "    # get unique state labels\n",
    "    unique = sorted(set(states))\n",
    "    # plot states\n",
    "    colors = matplotlib.cm.Set1(np.linspace(0, 1, len(unique)))\n",
    "    y_low, y_high = ax.get_ylim()\n",
    "    y_mid = np.mean([y_low, y_high])\n",
    "    y_height = 0.05 * (y_high - y_low)\n",
    "    for state, color in zip(unique, colors):\n",
    "        xs = timesteps[states==state]\n",
    "        for x in xs:\n",
    "            ax.fill_between([x-1, x], [y_mid-y_height]*2, [y_mid+y_height]*2,\n",
    "                alpha=0.3, color=color)"
   ]
  },
  {
   "cell_type": "code",
   "execution_count": null,
   "metadata": {
    "scrolled": true
   },
   "outputs": [],
   "source": [
    "# Helper function to plot model predictions from the posterior\n",
    "def plot_predictions(simulations, variable, ax, states_from_chain=None):\n",
    "    index = model.variables.index(variable)\n",
    "    # Plot the observed data.\n",
    "    x_observed = model.dataset.index\n",
    "    y_observed = model.dataset.loc[:,variable]\n",
    "    ax.plot(x_observed, y_observed, label=variable, color='k', linewidth=1)\n",
    "    # Plot 25--75 percentile bands around the simulated data. \n",
    "    samples = simulations[:,:,index]\n",
    "    ax.fill_between(\n",
    "        probes,\n",
    "        np.percentile(samples, 25, axis=0),\n",
    "        np.percentile(samples, 75, axis=0),\n",
    "        color='gray',\n",
    "        alpha=0.5)\n",
    "    #  Optionally plot latent temporal state at each timepoint,\n",
    "    #  according to a given chain in the model.\n",
    "    if states_from_chain is not None:\n",
    "        assert 0 <= states_from_chain < model.chains\n",
    "        # Get a list of states attributed to each sample\n",
    "        states = model.get_temporal_regimes(variable)[states_from_chain]\n",
    "        plot_latent_state_sequence(x_observed, y_observed, states, ax)\n",
    "    # Add the legend.\n",
    "    ax.legend(loc='upper left', handletextpad=0)"
   ]
  },
  {
   "cell_type": "code",
   "execution_count": null,
   "metadata": {
    "scrolled": false
   },
   "outputs": [],
   "source": [
    "# Plot posterior predictive draws\n",
    "fig, axes = plt.subplots(nrows=len(data.columns))\n",
    "fig.suptitle('Posterior Predictive Draws', fontsize=16)\n",
    "plot_predictions(samples, data.columns[0], axes)\n",
    "axes.set_xlim([min(probes), max(probes)])"
   ]
  },
  {
   "cell_type": "code",
   "execution_count": null,
   "metadata": {
    "scrolled": false
   },
   "outputs": [],
   "source": [
    "# Plot the model States as they change\n",
    "chain = 0\n",
    "samples_chain = samples[numsamples*chain:numsamples*(chain+1)]\n",
    "fig, axes = plt.subplots(nrows=1)\n",
    "fig.suptitle('Model States', fontsize=16)\n",
    "plot_predictions(samples_chain,data.columns[0], axes, states_from_chain=chain)\n",
    "axes.set_xlim([min(probes), max(probes)])"
   ]
  },
  {
   "cell_type": "code",
   "execution_count": null,
   "metadata": {
    "scrolled": true
   },
   "outputs": [],
   "source": [
    "# Generate posterior predictions 100 samples into the future\n",
    "# Create an index/grid past the end of the current dataset and draw from the posterior\n",
    "probes = list(model.dataset.index) + range(max(model.dataset.index), max(model.dataset.index)+100)\n",
    "numsamples = 20\n",
    "samples = model.simulate(probes, model.variables, numsamples)"
   ]
  },
  {
   "cell_type": "code",
   "execution_count": null,
   "metadata": {},
   "outputs": [],
   "source": [
    "# Plot the predictions\n",
    "fig, axes = plt.subplots(nrows=1)\n",
    "fig.suptitle('Posterior Predictive Draws Forward in Time', fontsize=16)\n",
    "plot_predictions(samples, data.columns[0], axes)\n",
    "axes.set_xlim([min(probes), max(probes)])"
   ]
  },
  {
   "cell_type": "code",
   "execution_count": null,
   "metadata": {},
   "outputs": [],
   "source": []
  }
 ],
 "metadata": {
  "kernelspec": {
   "display_name": "Python 2",
   "language": "python",
   "name": "python2"
  },
  "language_info": {
   "codemirror_mode": {
    "name": "ipython",
    "version": 2
   },
   "file_extension": ".py",
   "mimetype": "text/x-python",
   "name": "python",
   "nbconvert_exporter": "python",
   "pygments_lexer": "ipython2",
   "version": "2.7.12"
  },
  "latex_envs": {
   "LaTeX_envs_menu_present": true,
   "autoclose": false,
   "autocomplete": true,
   "bibliofile": "biblio.bib",
   "cite_by": "apalike",
   "current_citInitial": 1,
   "eqLabelWithNumbers": true,
   "eqNumInitial": 1,
   "hotkeys": {
    "equation": "Ctrl-E",
    "itemize": "Ctrl-I"
   },
   "labels_anchors": false,
   "latex_user_defs": false,
   "report_style_numbering": false,
   "user_envs_cfg": false
  }
 },
 "nbformat": 4,
 "nbformat_minor": 4
}
