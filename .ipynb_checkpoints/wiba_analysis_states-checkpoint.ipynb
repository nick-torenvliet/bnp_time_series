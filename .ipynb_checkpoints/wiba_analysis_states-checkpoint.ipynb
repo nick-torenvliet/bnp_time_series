{
 "cells": [
  {
   "cell_type": "markdown",
   "metadata": {},
   "source": [
    "## bnp_time_series Installation\n",
    "\n",
    "To install a virtuall environment for python refer to https://www.tensorflow.org/install/pip. \n",
    "\n",
    "Once your environment is activated:\n",
    "```\n",
    "pip install jupyterlab\n",
    "pip install h5py\n",
    "pip install pandas\n",
    "pip install matplotlib\n",
    "```"
   ]
  },
  {
   "cell_type": "code",
   "execution_count": null,
   "metadata": {
    "scrolled": true
   },
   "outputs": [],
   "source": [
    "import pandas as pd\n",
    "import matplotlib.pyplot as plt\n",
    "import matplotlib\n",
    "import numpy as np\n",
    "from trcrpm import TRCRP_Mixture\n",
    "from bokeh.plotting import figure, show\n",
    "from bokeh.io import output_notebook, push_notebook\n",
    "from bokeh.core.validation import silence\n",
    "from bokeh.core.validation.warnings import MISSING_RENDERERS\n",
    "from bokeh.layouts import column\n",
    "from bokeh.models import Range1d, ColumnDataSource\n",
    "from bokeh.models.renderers import GlyphRenderer\n",
    "silence(MISSING_RENDERERS, True)\n",
    "%matplotlib inline"
   ]
  },
  {
   "cell_type": "code",
   "execution_count": null,
   "metadata": {
    "scrolled": false
   },
   "outputs": [],
   "source": [
    "wiba_norm = pd.read_pickle('./data/4-63106-TT69@ai3061_wiba_normal.pkl')\n",
    "wiba_fail = pd.read_pickle(\"./data/4-63106-TT69@ai3061_wiba_failure.pkl\")\n",
    "wiba_data = pd.concat([wiba_fail.head(1000), wiba_fail.head(1000), wiba_fail.head(1000),\n",
    "                       wiba_fail.head(1000), wiba_fail.head(1000), wiba_fail.head(1000),\n",
    "                       wiba_fail.head(1000), wiba_fail.head(1000), wiba_fail.head(1000),\n",
    "                       wiba_fail.head(1000), wiba_fail.head(1000), wiba_fail.head(1000),\n",
    "                       wiba_fail.head(1000), wiba_fail.head(1000), wiba_fail,\n",
    "                       wiba_fail.head(1000), wiba_fail.head(1000), wiba_fail.head(1000),\n",
    "                       wiba_fail.head(1000), wiba_fail.head(1000), wiba_fail.head(1000),\n",
    "                       wiba_fail.head(1000), wiba_fail.head(1000), wiba_fail.head(1000),\n",
    "                       wiba_fail.head(1000), wiba_fail.head(1000), wiba_fail.head(1000),\n",
    "                       wiba_fail.head(1000), wiba_fail.head(1000), wiba_fail,\n",
    "                       wiba_fail.head(1000), wiba_fail.head(1000), wiba_fail.head(1000),\n",
    "                       wiba_fail.head(1000), wiba_fail.head(1000), wiba_fail.head(1000),\n",
    "                       wiba_fail.head(1000), wiba_fail.head(1000), wiba_fail.head(1000),\n",
    "                       wiba_fail.head(1000), wiba_fail.head(1000), wiba_fail.head(1000),\n",
    "                       wiba_fail.head(1000), wiba_fail.head(1000), wiba_fail,\n",
    "                       wiba_fail.head(1000), wiba_fail.head(1000), wiba_fail.head(1000),\n",
    "                       wiba_fail.head(1000), wiba_fail.head(1000), wiba_fail.head(1000),\n",
    "                       wiba_fail.head(1000), wiba_fail.head(1000)], ignore_index=True)"
   ]
  },
  {
   "cell_type": "code",
   "execution_count": null,
   "metadata": {
    "scrolled": true
   },
   "outputs": [],
   "source": [
    "wiba_data.head()"
   ]
  },
  {
   "cell_type": "code",
   "execution_count": null,
   "metadata": {
    "scrolled": true
   },
   "outputs": [],
   "source": [
    "wiba_data.tail()"
   ]
  },
  {
   "cell_type": "code",
   "execution_count": null,
   "metadata": {
    "scrolled": true
   },
   "outputs": [],
   "source": [
    "wiba_data.plot(figsize=(20 ,10))"
   ]
  },
  {
   "cell_type": "code",
   "execution_count": null,
   "metadata": {},
   "outputs": [],
   "source": [
    "from IPython.core.display import display, HTML\n",
    "display(HTML(\"<style>div.output_scroll { height: 52em; }</style>\"))"
   ]
  },
  {
   "cell_type": "code",
   "execution_count": null,
   "metadata": {
    "scrolled": true
   },
   "outputs": [],
   "source": [
    "output_notebook()\n",
    "chain = 0\n",
    "                         \n",
    "p1 = figure(title=\"4-63106-TT69@ai3061\", plot_height=350, plot_width=800)\n",
    "#target1 = show(p1, notebook_handle=True)\n",
    "\n",
    "p2 = figure(title=\"CRP States\", plot_height=350, plot_width=800, x_range=p1.x_range)\n",
    "#target2 = show(p2, notebook_handle=True)\n",
    "\n",
    "p = column(p1, p2)\n",
    "target = show(p, notebook_handle=True)\n",
    "x, eng_val, states, num_states = [], [], [], []\n",
    "i = 0\n",
    "step = 500\n",
    "print(i)\n",
    "rng = np.random.RandomState(1)\n",
    "model = TRCRP_Mixture(chains=4, lag=10, variables=wiba_data.columns, rng=rng)\n",
    "model.incorporate(wiba_data[i:i + step])\n",
    "model.resample_all(seconds=10)\n",
    "model.resample_hyperparameters(seconds=10)\n",
    "s = model.get_temporal_regimes('eng_val')[chain]\n",
    "num_states = step * [len(sorted(set(s)))]\n",
    "states = list(s[i:i + step])\n",
    "eng_val = wiba_data.iloc[i:i + step, 0].tolist()\n",
    "x = list(range(i, i + step ))\n",
    "for i in range(step, len(wiba_data) - step, step):\n",
    "    print(i)\n",
    "    line1 = p1.line(x = x,\n",
    "                   y = eng_val,\n",
    "                   color='blue',\n",
    "                   name='g1',\n",
    "                   line_width=1)\n",
    "\n",
    "    line2 = p2.line(x = x,\n",
    "                   y = num_states,\n",
    "                   color='red',\n",
    "                   name='g2',\n",
    "                   line_width=1)\n",
    "\n",
    "    line3 = p2.line(x = x,\n",
    "                   y = states,\n",
    "                   color='green',\n",
    "                   name='g3',\n",
    "                   line_width=1)\n",
    "    push_notebook(handle=target)   \n",
    "    model.incorporate(wiba_data[i:i + step])\n",
    "    model.resample_all(seconds=10)\n",
    "    model.resample_hyperparameters(seconds=10)\n",
    "    s = model.get_temporal_regimes('eng_val')[chain]\n",
    "    num_states = step * [len(sorted(set(s)))]\n",
    "    states = list(s[i:i + step])\n",
    "    eng_val = wiba_data.iloc[i:i + step, 0].tolist()\n",
    "    x = list(range(i, i + step ))"
   ]
  },
  {
   "cell_type": "code",
   "execution_count": null,
   "metadata": {
    "scrolled": false
   },
   "outputs": [],
   "source": [
    "probes = model.dataset.index\n",
    "numsamples = 20\n",
    "samples = model.simulate(probes, model.variables, numsamples)"
   ]
  },
  {
   "cell_type": "code",
   "execution_count": null,
   "metadata": {
    "scrolled": true
   },
   "outputs": [],
   "source": [
    "def plot_latent_state_sequence(timesteps, values, states, ax):\n",
    "    assert len(timesteps) == len(states)\n",
    "    unique = sorted(set(states))\n",
    "    colors = matplotlib.cm.Set1(np.linspace(0, 1, len(unique)))\n",
    "    y_low, y_high = ax.get_ylim()\n",
    "    y_mid = np.mean([y_low, y_high])\n",
    "    y_height = 0.05 * (y_high - y_low)\n",
    "    for state, color in zip(unique, colors):\n",
    "        xs = timesteps[states==state]\n",
    "        for x in xs:\n",
    "            ax.fill_between([x-1, x], [y_mid-y_height]*2, [y_mid+y_height]*2,\n",
    "                alpha=0.3, color=color)"
   ]
  },
  {
   "cell_type": "code",
   "execution_count": null,
   "metadata": {
    "scrolled": true
   },
   "outputs": [],
   "source": [
    "def plot_predictions(simulations, variable, ax, states_from_chain=None):\n",
    "    index = model.variables.index(variable)\n",
    "    # Plot the observed data.\n",
    "    x_observed = model.dataset.index\n",
    "    y_observed = model.dataset.loc[:,variable]\n",
    "    ax.plot(x_observed, y_observed, label=variable, color='k', linewidth=1)\n",
    "    # Plot 25--75 percentile bands around the simulated data. \n",
    "    samples = simulations[:,:,index]\n",
    "    ax.fill_between(\n",
    "        probes,\n",
    "        np.percentile(samples, 25, axis=0),\n",
    "        np.percentile(samples, 75, axis=0),\n",
    "        color='gray',\n",
    "        alpha=0.5)\n",
    "    #ax.set_ylim([min(y_observed)-2, max(y_observed)+2])\n",
    "    #  Optionally plot latent temporal state at each timepoint,\n",
    "    #  according to a given chain in the model.\n",
    "    if states_from_chain is not None:\n",
    "        assert 0 <= states_from_chain < model.chains\n",
    "        states = model.get_temporal_regimes(variable)[states_from_chain]\n",
    "        plot_latent_state_sequence(x_observed, y_observed, states, ax)\n",
    "    # Add the legend.\n",
    "    ax.legend(loc='upper left', handletextpad=0)"
   ]
  },
  {
   "cell_type": "code",
   "execution_count": null,
   "metadata": {
    "scrolled": true
   },
   "outputs": [],
   "source": [
    "fig, axes = plt.subplots(nrows=1)\n",
    "plot_predictions(samples, 'eng_val', axes)\n",
    "axes.set_xlim([min(probes), max(probes)])\n",
    "fig.set_size_inches(20,10)"
   ]
  },
  {
   "cell_type": "code",
   "execution_count": null,
   "metadata": {
    "scrolled": true
   },
   "outputs": [],
   "source": [
    "chain = 0\n",
    "samples_chain = samples[numsamples*chain:numsamples*(chain+1)]"
   ]
  },
  {
   "cell_type": "code",
   "execution_count": null,
   "metadata": {
    "scrolled": true
   },
   "outputs": [],
   "source": [
    "fig, axes = plt.subplots(nrows=1)\n",
    "plot_predictions(samples_chain, 'eng_val', axes, states_from_chain=chain)\n",
    "axes.set_xlim([min(probes), max(probes)])\n",
    "fig.set_size_inches(20,10)"
   ]
  },
  {
   "cell_type": "code",
   "execution_count": null,
   "metadata": {
    "scrolled": true
   },
   "outputs": [],
   "source": [
    "probes = list(model.dataset.index) + range(max(model.dataset.index), max(model.dataset.index)+100)\n",
    "numsamples = 20\n",
    "samples = model.simulate(probes, model.variables, numsamples)"
   ]
  },
  {
   "cell_type": "code",
   "execution_count": null,
   "metadata": {
    "scrolled": true
   },
   "outputs": [],
   "source": [
    "fig, axes = plt.subplots(nrows=1)\n",
    "plot_predictions(samples, 'eng_val', axes)\n",
    "axes.set_xlim([min(probes), max(probes)])\n",
    "fig.set_size_inches(20,10)"
   ]
  },
  {
   "cell_type": "code",
   "execution_count": null,
   "metadata": {
    "scrolled": true
   },
   "outputs": [],
   "source": [
    "%qtconsole"
   ]
  },
  {
   "cell_type": "code",
   "execution_count": null,
   "metadata": {
    "scrolled": true
   },
   "outputs": [],
   "source": []
  }
 ],
 "metadata": {
  "kernelspec": {
   "display_name": "Python 2",
   "language": "python",
   "name": "python2"
  },
  "language_info": {
   "codemirror_mode": {
    "name": "ipython",
    "version": 2
   },
   "file_extension": ".py",
   "mimetype": "text/x-python",
   "name": "python",
   "nbconvert_exporter": "python",
   "pygments_lexer": "ipython2",
   "version": "2.7.17"
  },
  "latex_envs": {
   "LaTeX_envs_menu_present": true,
   "autoclose": false,
   "autocomplete": true,
   "bibliofile": "biblio.bib",
   "cite_by": "apalike",
   "current_citInitial": 1,
   "eqLabelWithNumbers": true,
   "eqNumInitial": 1,
   "hotkeys": {
    "equation": "Ctrl-E",
    "itemize": "Ctrl-I"
   },
   "labels_anchors": false,
   "latex_user_defs": false,
   "report_style_numbering": false,
   "user_envs_cfg": false
  }
 },
 "nbformat": 4,
 "nbformat_minor": 4
}
