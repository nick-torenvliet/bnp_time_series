{
 "cells": [
  {
   "cell_type": "code",
   "execution_count": 38,
   "metadata": {},
   "outputs": [],
   "source": [
    "import h5py\n",
    "import pandas as pd\n",
    "data_file = \"/home/torenvln/git/data_repo/4xP_20190101_00.raw.hdf5\"\n",
    "f = h5py.File(data_file, 'r' ) \n",
    "tag_names = list(f.keys())"
   ]
  },
  {
   "cell_type": "code",
   "execution_count": 39,
   "metadata": {},
   "outputs": [],
   "source": [
    "df_list = []\n",
    "anomaly = [\"4-63106-TT69@ai3061\"]\n",
    "grp1 = [\"4-63312-PM1-TT1@ai3321\", \"4-63312-PM1-TT3@ai3323\",\"4-63312-PM1-TT2@ai3322\"]\n",
    "grp2 = [\"4-63411-TT14@ai3200\", \"4-63411-TT15@ai3201\", \"4-63411-TT16@ai3202\", \"4-63411-TT17@ai3203\"]\n",
    "grp3 = [\"4-63312-TT38A@ai0314\", \"4-63312-TT38B@ai0315\", \"4-63312-TT38C@ai0316\"]\n",
    "grp4 = [\"4-67121-TE7@ai3414\", \"4-67121-TE8@ai3415\", \"4-67121-TE9@ai3416\"]\n",
    "\n",
    "for tag in tag_names:\n",
    "    ts = f.get(tag+\"/time_stamp\")\n",
    "    ev = f.get(tag+\"/eng_val\")\n",
    "    df = pd.DataFrame({'time_stamp':ts, tag: ev})\n",
    "    df = df.round({'time_stamp':-3})\n",
    "    df = df.set_index(['time_stamp'])\n",
    "    df_list.append(df)\n",
    "    \n",
    "df = pd.concat(df_list, axis=1)\n",
    "df = df.interpolate()\n",
    "df = df.reset_index()\n",
    "\n",
    "anomaly_df = df[anomaly]\n",
    "anomaly_df.columns = ['anomaly']\n",
    "anomaly_df = anomaly_df.fillna(method='bfill')\n",
    "anomaly_df.to_csv('./data/anomaly.csv')\n",
    "\n",
    "grp1_df = df[grp1]\n",
    "grp1_df.columns = [\"group_1.0\", \"group_1.1\", \"group_1.2\"]\n",
    "grp1_df = grp1_df.fillna(method='bfill')\n",
    "grp1_df.to_csv('./data/grp1.csv')\n",
    "\n",
    "grp2_df = df[grp2]\n",
    "grp2_df.columns = [\"group_2.0\", \"group_2.1\", \"group_2.2\", \"group_2.3\"]\n",
    "grp2_df = grp2_df.fillna(method='bfill')\n",
    "grp2_df.to_csv('./data/grp2.csv')\n",
    "\n",
    "grp3_df = df[grp3]\n",
    "grp3_df.columns = [\"group_3.0\", \"group_3.1\", \"group_3.2\"]\n",
    "grp3_df = grp3_df.fillna(method='bfill')\n",
    "grp3_df.to_csv('./data/grp3.csv')\n",
    "\n",
    "grp4_df = df[grp4]\n",
    "grp4_df.columns = [\"group_4.0\", \"group_4.1\", \"group_4.2\"]\n",
    "grp4_df = grp4_df.fillna(method='bfill')\n",
    "grp4_df.to_csv('./data/grp4.csv')\n",
    "\n",
    "groups_df = pd.concat([grp1_df, grp2_df, grp3_df, grp4_df], axis=1)\n",
    "groups_df.to_csv('./data/groups.csv')"
   ]
  },
  {
   "cell_type": "code",
   "execution_count": 41,
   "metadata": {},
   "outputs": [],
   "source": [
    "import h5py\n",
    "import pandas as pd\n",
    "data_file = \"/home/torenvln/git/data_repo/wiba_failures/4-2019_ai3061.hdf5\"\n",
    "f = h5py.File(data_file, 'r' ) \n",
    "tag_names = list(f.keys())"
   ]
  },
  {
   "cell_type": "code",
   "execution_count": 42,
   "metadata": {},
   "outputs": [],
   "source": [
    "df_list = []\n",
    "anomaly = [\"4-63106-TT69@ai3061\"]\n",
    "\n",
    "for tag in tag_names:\n",
    "    ts = f.get(tag+\"/time_stamp\")\n",
    "    ev = f.get(tag+\"/eng_val\")\n",
    "    df = pd.DataFrame({'time_stamp':ts, tag: ev})\n",
    "    df = df.round({'time_stamp':-3})\n",
    "    df = df.set_index(['time_stamp'])\n",
    "    df_list.append(df)\n",
    "    \n",
    "df = pd.concat(df_list, axis=1)\n",
    "df = df.interpolate()\n",
    "df = df.reset_index()\n",
    "\n",
    "anomaly_df = df[anomaly]\n",
    "anomaly_df.columns = ['anomaly']\n",
    "anomaly_df = anomaly_df.fillna(method='bfill')\n",
    "anomaly_df.to_csv('./data/anomaly.csv')"
   ]
  },
  {
   "cell_type": "code",
   "execution_count": 44,
   "metadata": {},
   "outputs": [],
   "source": [
    "import h5py\n",
    "import pandas as pd\n",
    "data_file = \"/home/torenvln/git/data_repo/wiba_failures/4-2019_ai0245.hdf5\"\n",
    "f = h5py.File(data_file, 'r' ) \n",
    "tag_names = list(f.keys())"
   ]
  },
  {
   "cell_type": "code",
   "execution_count": 45,
   "metadata": {},
   "outputs": [],
   "source": [
    "df_list = []\n",
    "anomaly = [\"4-63106-FT39@ai0245\"]\n",
    "\n",
    "for tag in tag_names:\n",
    "    ts = f.get(tag+\"/time_stamp\")\n",
    "    ev = f.get(tag+\"/eng_val\")\n",
    "    df = pd.DataFrame({'time_stamp':ts, tag: ev})\n",
    "    df = df.round({'time_stamp':-3})\n",
    "    df = df.set_index(['time_stamp'])\n",
    "    df_list.append(df)\n",
    "    \n",
    "df = pd.concat(df_list, axis=1)\n",
    "df = df.interpolate()\n",
    "df = df.reset_index()\n",
    "\n",
    "anomaly_df = df[anomaly]\n",
    "anomaly_df.columns = ['anomaly']\n",
    "anomaly_df = anomaly_df.fillna(method='bfill')\n",
    "anomaly_df.to_csv('./data/anomaly.csv')"
   ]
  },
  {
   "cell_type": "code",
   "execution_count": 7,
   "metadata": {},
   "outputs": [],
   "source": [
    "%qtconsole"
   ]
  },
  {
   "cell_type": "code",
   "execution_count": null,
   "metadata": {},
   "outputs": [],
   "source": []
  }
 ],
 "metadata": {
  "kernelspec": {
   "display_name": "Python 2",
   "language": "python",
   "name": "python2"
  },
  "language_info": {
   "codemirror_mode": {
    "name": "ipython",
    "version": 2
   },
   "file_extension": ".py",
   "mimetype": "text/x-python",
   "name": "python",
   "nbconvert_exporter": "python",
   "pygments_lexer": "ipython2",
   "version": "2.7.17"
  },
  "latex_envs": {
   "LaTeX_envs_menu_present": true,
   "autoclose": false,
   "autocomplete": true,
   "bibliofile": "biblio.bib",
   "cite_by": "apalike",
   "current_citInitial": 1,
   "eqLabelWithNumbers": true,
   "eqNumInitial": 1,
   "hotkeys": {
    "equation": "Ctrl-E",
    "itemize": "Ctrl-I"
   },
   "labels_anchors": false,
   "latex_user_defs": false,
   "report_style_numbering": false,
   "user_envs_cfg": false
  }
 },
 "nbformat": 4,
 "nbformat_minor": 2
}
